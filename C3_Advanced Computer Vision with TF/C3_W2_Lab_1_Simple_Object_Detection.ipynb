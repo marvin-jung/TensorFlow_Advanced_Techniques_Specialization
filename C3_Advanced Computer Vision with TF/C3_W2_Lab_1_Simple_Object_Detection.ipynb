{
  "nbformat": 4,
  "nbformat_minor": 0,
  "metadata": {
    "accelerator": "GPU",
    "colab": {
      "provenance": [],
      "gpuType": "T4"
    },
    "kernelspec": {
      "display_name": "Python 3",
      "language": "python",
      "name": "python3"
    },
    "language_info": {
      "codemirror_mode": {
        "name": "ipython",
        "version": 3
      },
      "file_extension": ".py",
      "mimetype": "text/x-python",
      "name": "python",
      "nbconvert_exporter": "python",
      "pygments_lexer": "ipython3",
      "version": "3.7.4"
    },
    "gpuClass": "standard"
  },
  "cells": [
    {
      "cell_type": "markdown",
      "metadata": {
        "id": "mmANPR2jhCR6"
      },
      "source": [
        "# Simple Object Detection in Tensorflow\n",
        "\n",
        "This lab will walk you through how to use object detection models available in [Tensorflow Hub](https://www.tensorflow.org/hub). In the following sections, you will:\n",
        "\n",
        "* explore the Tensorflow Hub for object detection models\n",
        "* load the models in your workspace\n",
        "* preprocess an image for inference \n",
        "* run inference on the models and inspect the output\n",
        "\n",
        "Let's get started!"
      ]
    },
    {
      "cell_type": "markdown",
      "metadata": {
        "id": "8DkMLuGDhCR6"
      },
      "source": [
        "## Imports"
      ]
    },
    {
      "cell_type": "code",
      "metadata": {
        "id": "OEoRKdmByrb0"
      },
      "source": [
        "import tensorflow as tf\n",
        "import tensorflow_hub as hub\n",
        "from PIL import Image\n",
        "from PIL import ImageOps\n",
        "import tempfile\n",
        "from six.moves.urllib.request import urlopen\n",
        "from six import BytesIO"
      ],
      "execution_count": 1,
      "outputs": []
    },
    {
      "cell_type": "markdown",
      "metadata": {
        "id": "nb8MBgTOhCR6"
      },
      "source": [
        "### Download the model from Tensorflow Hub\n",
        "\n",
        "Tensorflow Hub is a repository of trained machine learning models which you can reuse in your own projects. \n",
        "- You can see the domains covered [here](https://tfhub.dev/) and its subcategories. \n",
        "- For this lab, you will want to look at the [image object detection subcategory](https://tfhub.dev/s?module-type=image-object-detection). \n",
        "- You can select a model to see more information about it and copy the URL so you can download it to your workspace. \n",
        "- We selected a [inception resnet version 2](https://tfhub.dev/google/faster_rcnn/openimages_v4/inception_resnet_v2/1)\n",
        "- You can also modify this following cell to choose the other model that we selected, [ssd mobilenet version 2](https://tfhub.dev/tensorflow/ssd_mobilenet_v2/2)"
      ]
    },
    {
      "cell_type": "code",
      "metadata": {
        "id": "C9pCzz4uy20U"
      },
      "source": [
        "# you can switch the commented lines here to pick the other model\n",
        "\n",
        "# inception resnet version 2\n",
        "module_handle = \"https://tfhub.dev/google/faster_rcnn/openimages_v4/inception_resnet_v2/1\"\n",
        "\n",
        "# You can choose ssd mobilenet version 2 instead and compare the results\n",
        "#module_handle = \"https://tfhub.dev/google/openimages_v4/ssd/mobilenet_v2/1\""
      ],
      "execution_count": 2,
      "outputs": []
    },
    {
      "cell_type": "markdown",
      "metadata": {
        "id": "W3trj5FbhCR6"
      },
      "source": [
        "#### Load the model\n",
        "\n",
        "Next, you'll load the model specified by the `module_handle`.\n",
        "- This will take a few minutes to load the model."
      ]
    },
    {
      "cell_type": "code",
      "metadata": {
        "id": "0WHkGDHfhCR6"
      },
      "source": [
        "model = hub.load(module_handle)"
      ],
      "execution_count": 3,
      "outputs": []
    },
    {
      "cell_type": "markdown",
      "metadata": {
        "id": "1Ey0FpHGhCR6"
      },
      "source": [
        "#### Choose the default signature\n",
        "\n",
        "Some models in the Tensorflow hub can be used for different tasks. So each model's documentation should show what *signature* to use when running the model. \n",
        "- If you want to see if a model has more than one signature then you can do something like `print(hub.load(module_handle).signatures.keys())`. In your case, the models you will be using only have the `default` signature so you don't have to worry about other types."
      ]
    },
    {
      "cell_type": "code",
      "metadata": {
        "id": "X1BU7AGthCR6",
        "colab": {
          "base_uri": "https://localhost:8080/"
        },
        "outputId": "808e61f1-fa42-4e7e-a599-a651d251502b"
      },
      "source": [
        "# take a look at the available signatures for this particular model\n",
        "model.signatures.keys()"
      ],
      "execution_count": 4,
      "outputs": [
        {
          "output_type": "execute_result",
          "data": {
            "text/plain": [
              "KeysView(_SignatureMap({'default': <ConcreteFunction pruned(images) at 0x7FFB2BFF3520>}))"
            ]
          },
          "metadata": {},
          "execution_count": 4
        }
      ]
    },
    {
      "cell_type": "markdown",
      "metadata": {
        "id": "nfc9ax9hhCR6"
      },
      "source": [
        "Please choose the 'default' signature for your object detector.\n",
        "- For object detection models, its 'default' signature will accept a batch of image tensors and output a dictionary describing the objects detected, which is what you'll want here."
      ]
    },
    {
      "cell_type": "code",
      "metadata": {
        "id": "pzwR5zE_hCR7"
      },
      "source": [
        "detector = model.signatures['default']"
      ],
      "execution_count": 5,
      "outputs": []
    },
    {
      "cell_type": "markdown",
      "metadata": {
        "id": "Wvb-3r3thCR7"
      },
      "source": [
        "### download_and_resize_image\n",
        "\n",
        "This function downloads an image specified by a given \"url\", pre-processes it, and then saves it to disk."
      ]
    },
    {
      "cell_type": "code",
      "metadata": {
        "id": "Ucsxak_qhCR7"
      },
      "source": [
        "def download_and_resize_image(url, new_width=256, new_height=256):\n",
        "    '''\n",
        "    Fetches an image online, resizes it and saves it locally.\n",
        "    \n",
        "    Args:\n",
        "        url (string) -- link to the image\n",
        "        new_width (int) -- size in pixels used for resizing the width of the image\n",
        "        new_height (int) -- size in pixels used for resizing the length of the image\n",
        "        \n",
        "    Returns:\n",
        "        (string) -- path to the saved image\n",
        "    '''\n",
        "    \n",
        "    \n",
        "    # create a temporary file ending with \".jpg\"\n",
        "    _, filename = tempfile.mkstemp(suffix=\".jpg\")\n",
        "    \n",
        "    # opens the given URL\n",
        "    response = urlopen(url)\n",
        "    \n",
        "    # reads the image fetched from the URL\n",
        "    image_data = response.read()\n",
        "    \n",
        "    # puts the image data in memory buffer\n",
        "    image_data = BytesIO(image_data)\n",
        "    \n",
        "    # opens the image\n",
        "    pil_image = Image.open(image_data)\n",
        "    \n",
        "    # resizes the image. will crop if aspect ratio is different.\n",
        "    pil_image = ImageOps.fit(pil_image, (new_width, new_height), Image.ANTIALIAS)\n",
        "    \n",
        "    # converts to the RGB colorspace\n",
        "    pil_image_rgb = pil_image.convert(\"RGB\")\n",
        "    \n",
        "    # saves the image to the temporary file created earlier\n",
        "    pil_image_rgb.save(filename, format=\"JPEG\", quality=90)\n",
        "    \n",
        "    print(\"Image downloaded to %s.\" % filename)\n",
        "    \n",
        "    return filename"
      ],
      "execution_count": 6,
      "outputs": []
    },
    {
      "cell_type": "markdown",
      "metadata": {
        "id": "r7qodEJHhCR7"
      },
      "source": [
        "### Download and preprocess an image\n",
        "\n",
        "Now, using `download_and_resize_image` you can get a sample image online and save it locally. \n",
        "- We've provided a URL for you, but feel free to choose another image to run through the object detector.\n",
        "- You can use the original width and height of the image but feel free to modify it and see what results you get."
      ]
    },
    {
      "cell_type": "code",
      "metadata": {
        "id": "xHTDalVrhCR7",
        "colab": {
          "base_uri": "https://localhost:8080/"
        },
        "outputId": "ca7cef5d-2ec5-43d6-dc81-6f4452005a73"
      },
      "source": [
        "# You can choose a different URL that points to an image of your choice\n",
        "image_url = \"https://upload.wikimedia.org/wikipedia/commons/f/fb/20130807_dublin014.JPG\"\n",
        "\n",
        "# download the image and use the original height and width\n",
        "downloaded_image_path = download_and_resize_image(image_url, 3872, 2592)"
      ],
      "execution_count": 7,
      "outputs": [
        {
          "output_type": "stream",
          "name": "stdout",
          "text": [
            "Image downloaded to /tmp/tmpdwo6ckvb.jpg.\n"
          ]
        }
      ]
    },
    {
      "cell_type": "markdown",
      "metadata": {
        "id": "IVNXUKMIhCR7"
      },
      "source": [
        "### run_detector\n",
        "\n",
        "This function will take in the object detection model `detector` and the path to a sample image, then use this model to detect objects and display its predicted class categories and detection boxes.\n",
        "- run_detector uses `load_image` to convert the image into a tensor."
      ]
    },
    {
      "cell_type": "code",
      "metadata": {
        "id": "wkkiQzKlhCR7"
      },
      "source": [
        "def load_img(path):\n",
        "    '''\n",
        "    Loads a JPEG image and converts it to a tensor.\n",
        "    \n",
        "    Args:\n",
        "        path (string) -- path to a locally saved JPEG image\n",
        "    \n",
        "    Returns:\n",
        "        (tensor) -- an image tensor\n",
        "    '''\n",
        "    \n",
        "    # read the file\n",
        "    img = tf.io.read_file(path)\n",
        "    \n",
        "    # convert to a tensor\n",
        "    img = tf.image.decode_jpeg(img, channels=3)\n",
        "    \n",
        "    return img\n",
        "\n",
        "\n",
        "def run_detector(detector, path):\n",
        "    '''\n",
        "    Runs inference on a local file using an object detection model.\n",
        "    \n",
        "    Args:\n",
        "        detector (model) -- an object detection model loaded from TF Hub\n",
        "        path (string) -- path to an image saved locally\n",
        "    '''\n",
        "    \n",
        "    # load an image tensor from a local file path\n",
        "    img = load_img(path)\n",
        "\n",
        "    # add a batch dimension in front of the tensor\n",
        "    converted_img  = tf.image.convert_image_dtype(img, tf.float32)[tf.newaxis, ...]\n",
        "    \n",
        "    # run inference using the model\n",
        "    result = detector(converted_img)\n",
        "\n",
        "    # save the results in a dictionary\n",
        "    result = {key:value.numpy() for key,value in result.items()}\n",
        "\n",
        "    # print results\n",
        "    print(\"Found %d objects.\" % len(result[\"detection_scores\"]))\n",
        "\n",
        "    print(result[\"detection_scores\"])\n",
        "    print(result[\"detection_class_entities\"])\n",
        "    print(result[\"detection_boxes\"])\n"
      ],
      "execution_count": 8,
      "outputs": []
    },
    {
      "cell_type": "markdown",
      "metadata": {
        "id": "DSEeJSkxhCR7"
      },
      "source": [
        "### Run inference on the image\n",
        "\n",
        "You can run your detector by calling the `run_detector` function. This will print the number of objects found followed by three lists: \n",
        "\n",
        "* The detection scores of each object found (i.e. how confident the model is), \n",
        "* The classes of each object found, \n",
        "* The bounding boxes of each object\n",
        "\n",
        "You will see how to overlay this information on the original image in the next sections and in this week's assignment!"
      ]
    },
    {
      "cell_type": "code",
      "metadata": {
        "id": "csanHvDIz4_t",
        "colab": {
          "base_uri": "https://localhost:8080/"
        },
        "outputId": "b0006289-2387-4bf1-b88b-f0075d37fce9"
      },
      "source": [
        "# runs the object detection model and prints information about the objects found\n",
        "run_detector(detector, downloaded_image_path)"
      ],
      "execution_count": 9,
      "outputs": [
        {
          "output_type": "stream",
          "name": "stdout",
          "text": [
            "Found 100 objects.\n",
            "[0.653217   0.61050624 0.60152346 0.5925565  0.59177697 0.5815496\n",
            " 0.550531   0.4957552  0.4742482  0.47322246 0.44066477 0.40511414\n",
            " 0.3980396  0.39406553 0.37148657 0.36156043 0.36150828 0.3468901\n",
            " 0.3336239  0.31252936 0.28878066 0.25758353 0.2574888  0.25196075\n",
            " 0.24782032 0.23412348 0.20432086 0.20324549 0.17988388 0.17964767\n",
            " 0.17374466 0.16431478 0.16031037 0.15895185 0.15620378 0.15468863\n",
            " 0.14754486 0.13622612 0.12740079 0.12555644 0.12102681 0.11813021\n",
            " 0.11387289 0.11229114 0.11129159 0.09718721 0.09137267 0.08975998\n",
            " 0.08880224 0.0863362  0.08337426 0.08095112 0.07988765 0.07741491\n",
            " 0.07732147 0.0763104  0.0750784  0.07386071 0.07233309 0.07204141\n",
            " 0.07110163 0.06935591 0.06825575 0.06427862 0.06248603 0.06226408\n",
            " 0.06211172 0.05940075 0.05798797 0.05784449 0.05725616 0.05346701\n",
            " 0.05304364 0.05242892 0.048926   0.04813036 0.04578466 0.04424166\n",
            " 0.0433756  0.04277816 0.04262614 0.04163449 0.04081737 0.03975986\n",
            " 0.03945967 0.03944296 0.03864007 0.0376907  0.03759582 0.03566733\n",
            " 0.0335937  0.03333234 0.03275877 0.03231589 0.03134302 0.0297871\n",
            " 0.02858366 0.02856144 0.02822336 0.02787885]\n",
            "[b'Person' b'Person' b'Person' b'Person' b'Footwear' b'Person' b'Building'\n",
            " b'Bicycle' b'Window' b'Building' b'Person' b'Wheel' b'Building'\n",
            " b'Building' b'Person' b'Wheel' b'Building' b'Window' b'Window'\n",
            " b'Building' b'Person' b'Van' b'Person' b'Bicycle wheel' b'Person'\n",
            " b'Window' b'Window' b'Bicycle' b'Building' b'Window' b'Window' b'Man'\n",
            " b'Person' b'Person' b'Woman' b'Clothing' b'Bicycle wheel' b'Window'\n",
            " b'Person' b'Window' b'Land vehicle' b'Land vehicle' b'Clothing'\n",
            " b'Bicycle' b'Window' b'House' b'Land vehicle' b'Land vehicle' b'House'\n",
            " b'Man' b'Window' b'Clothing' b'Footwear' b'Person' b'Window' b'Man'\n",
            " b'Man' b'House' b'Person' b'Building' b'Clothing' b'Window' b'Person'\n",
            " b'Jeans' b'Man' b'Furniture' b'Person' b'Person' b'Person'\n",
            " b'Land vehicle' b'Person' b'Window' b'House' b'Woman' b'Window' b'Man'\n",
            " b'Person' b'Man' b'Clothing' b'Bicycle' b'Man' b'Person' b'Window'\n",
            " b'Person' b'Car' b'Man' b'Car' b'Chair' b'House' b'Window' b'Clothing'\n",
            " b'Tire' b'Clothing' b'Window' b'Land vehicle' b'Window' b'Man' b'Window'\n",
            " b'Bus' b'Clothing']\n",
            "[[5.1278782e-01 5.2925885e-01 6.0162258e-01 5.5207765e-01]\n",
            " [5.1963109e-01 6.0151273e-01 6.4617711e-01 6.3462675e-01]\n",
            " [5.0550711e-01 5.0044084e-01 6.0128838e-01 5.2308434e-01]\n",
            " [4.8633158e-01 4.1272956e-01 6.7882979e-01 4.5991975e-01]\n",
            " [8.1519133e-01 9.5612228e-01 8.4270293e-01 9.8714614e-01]\n",
            " [4.9540991e-01 9.2354834e-01 8.3568782e-01 9.9905157e-01]\n",
            " [1.1479213e-02 1.2222478e-02 7.3866975e-01 4.2463285e-01]\n",
            " [5.7767749e-01 3.6645338e-01 7.1277165e-01 4.8337570e-01]\n",
            " [0.0000000e+00 1.1926236e-01 2.2389613e-01 1.8393047e-01]\n",
            " [7.7412114e-02 4.1299814e-01 5.7953990e-01 5.6044620e-01]\n",
            " [5.1381820e-01 7.4803144e-01 5.9199315e-01 7.6661122e-01]\n",
            " [6.3213789e-01 3.5992548e-01 7.0387030e-01 4.1182616e-01]\n",
            " [0.0000000e+00 7.9705197e-01 6.7336845e-01 1.0000000e+00]\n",
            " [1.6023356e-02 6.8486959e-01 5.5876142e-01 8.1116796e-01]\n",
            " [5.0027698e-01 3.7696630e-01 6.3327295e-01 4.1450134e-01]\n",
            " [6.4054024e-01 4.4508937e-01 7.0298356e-01 4.8343769e-01]\n",
            " [0.0000000e+00 2.1905425e-01 6.6040105e-01 4.3326345e-01]\n",
            " [1.9308027e-03 0.0000000e+00 1.3937683e-01 2.6295694e-02]\n",
            " [2.5720471e-03 9.6666849e-01 1.5372871e-01 1.0000000e+00]\n",
            " [5.5714924e-04 1.5205571e-03 7.6521069e-01 2.6997715e-01]\n",
            " [5.0452483e-01 3.6118776e-01 6.3473177e-01 3.8534221e-01]\n",
            " [4.8340583e-01 6.1965084e-01 5.6270576e-01 6.6155612e-01]\n",
            " [4.9806732e-01 3.6457619e-01 6.6123945e-01 4.0497234e-01]\n",
            " [6.3127881e-01 3.6036417e-01 7.0415378e-01 4.1150135e-01]\n",
            " [5.2181387e-01 5.7764757e-01 5.8759993e-01 6.0071886e-01]\n",
            " [2.1956961e-01 3.4874475e-01 3.3837262e-01 3.7707540e-01]\n",
            " [1.2486306e-01 2.5091293e-01 2.7994093e-01 2.8158078e-01]\n",
            " [5.7718605e-01 3.6229667e-01 7.0702082e-01 4.4181085e-01]\n",
            " [2.5747442e-01 5.6756157e-01 5.3110290e-01 6.8772727e-01]\n",
            " [4.2063929e-02 8.7477314e-01 2.5277352e-01 9.1302884e-01]\n",
            " [1.5635101e-01 4.4340113e-01 2.2221322e-01 4.7578612e-01]\n",
            " [5.0196803e-01 9.2148685e-01 8.3640671e-01 1.0000000e+00]\n",
            " [5.2362251e-01 5.7025951e-01 5.8451939e-01 5.9158343e-01]\n",
            " [5.1324642e-01 6.7927653e-01 5.5099452e-01 6.9257998e-01]\n",
            " [5.1912028e-01 5.9998542e-01 6.4637840e-01 6.3403636e-01]\n",
            " [5.2429777e-01 9.2496204e-01 8.1077713e-01 9.9799955e-01]\n",
            " [6.3818729e-01 4.4291818e-01 7.0165384e-01 4.8409772e-01]\n",
            " [3.4219075e-02 3.5557473e-01 1.6225505e-01 3.7492117e-01]\n",
            " [4.8847678e-01 4.5349696e-01 6.2179548e-01 4.7972572e-01]\n",
            " [9.2878664e-04 3.0769905e-01 1.0653344e-01 3.3205971e-01]\n",
            " [4.8300898e-01 6.1990827e-01 5.6477517e-01 6.6069692e-01]\n",
            " [5.8219290e-01 3.6492977e-01 7.1388066e-01 4.8470786e-01]\n",
            " [5.2354771e-01 7.4919933e-01 5.8537811e-01 7.6531756e-01]\n",
            " [6.0915685e-01 4.2670590e-01 7.0516527e-01 4.8708901e-01]\n",
            " [3.5136867e-01 9.7485608e-01 5.5313069e-01 9.9887872e-01]\n",
            " [0.0000000e+00 8.1122327e-01 6.8641073e-01 9.9715137e-01]\n",
            " [5.7629758e-01 3.5746184e-01 7.0481229e-01 4.4027960e-01]\n",
            " [5.6489241e-01 3.6302310e-01 7.0865023e-01 4.1603634e-01]\n",
            " [1.0937526e-02 2.3315635e-02 7.2652304e-01 4.2174771e-01]\n",
            " [4.8468664e-01 4.1068605e-01 6.9468647e-01 4.6309283e-01]\n",
            " [8.0977738e-02 3.8471529e-01 2.0780872e-01 4.1174638e-01]\n",
            " [5.3828442e-01 6.0357374e-01 6.3477612e-01 6.3440865e-01]\n",
            " [6.2984461e-01 6.1497152e-01 6.4493346e-01 6.2538445e-01]\n",
            " [5.0275803e-01 3.8239595e-01 5.9614623e-01 4.1272232e-01]\n",
            " [0.0000000e+00 1.2452292e-02 1.4019351e-01 2.4738219e-02]\n",
            " [5.1444143e-01 7.4779159e-01 5.9198582e-01 7.6682734e-01]\n",
            " [5.0618213e-01 5.0040692e-01 6.0068130e-01 5.2331203e-01]\n",
            " [0.0000000e+00 2.1128355e-01 6.5079415e-01 4.3430078e-01]\n",
            " [4.8945150e-01 4.5439130e-01 5.7234013e-01 4.7647077e-01]\n",
            " [0.0000000e+00 7.0621562e-01 6.1699831e-01 8.6618918e-01]\n",
            " [5.0917292e-01 4.1628119e-01 6.6930449e-01 4.5959872e-01]\n",
            " [4.6517248e-03 8.0309421e-01 1.5985359e-01 8.4039706e-01]\n",
            " [5.2615100e-01 5.6835294e-01 5.7944036e-01 5.8281022e-01]\n",
            " [6.7192483e-01 9.4027770e-01 8.2127601e-01 9.8925078e-01]\n",
            " [5.0277025e-01 3.7388310e-01 6.4699155e-01 4.1297230e-01]\n",
            " [5.7424390e-01 2.6740086e-01 6.5776908e-01 3.2031855e-01]\n",
            " [4.8605677e-01 4.4450879e-01 6.2478888e-01 4.7350335e-01]\n",
            " [5.1724893e-01 7.5696921e-01 5.8851725e-01 7.7146548e-01]\n",
            " [5.2337497e-01 5.5785012e-01 5.7913953e-01 5.7354158e-01]\n",
            " [6.1246103e-01 4.2733246e-01 7.0608020e-01 4.8825186e-01]\n",
            " [5.2412409e-01 5.6155318e-01 5.7838535e-01 5.8047515e-01]\n",
            " [0.0000000e+00 2.4423178e-01 6.0775477e-02 2.9361343e-01]\n",
            " [1.4892070e-02 2.1473595e-03 7.4544203e-01 2.5979072e-01]\n",
            " [4.9323618e-01 9.2395020e-01 8.3711082e-01 9.9775505e-01]\n",
            " [8.3768480e-03 2.4216573e-01 4.9728516e-02 2.8316256e-01]\n",
            " [5.0533485e-01 3.6017528e-01 6.4356107e-01 3.9146179e-01]\n",
            " [5.1309913e-01 5.2379411e-01 6.0050434e-01 5.4296803e-01]\n",
            " [5.2042139e-01 6.0097867e-01 6.4612406e-01 6.3436639e-01]\n",
            " [5.1822484e-01 5.0339556e-01 5.9754866e-01 5.2268386e-01]\n",
            " [5.9419912e-01 3.6132798e-01 7.0546591e-01 4.1585335e-01]\n",
            " [5.1325637e-01 6.7931706e-01 5.5053401e-01 6.9248223e-01]\n",
            " [5.2230269e-01 5.3619546e-01 5.9756500e-01 5.5316323e-01]\n",
            " [4.2987636e-01 8.2870227e-01 5.8992827e-01 8.6432314e-01]\n",
            " [5.0488460e-01 3.8942701e-01 6.1508071e-01 4.1993612e-01]\n",
            " [5.2658856e-01 6.2717688e-01 5.6329978e-01 6.5372890e-01]\n",
            " [5.0130492e-01 3.6418903e-01 6.5996474e-01 4.0379328e-01]\n",
            " [5.1517123e-01 6.2410480e-01 5.6379539e-01 6.5800208e-01]\n",
            " [5.7313800e-01 2.6690266e-01 6.6616207e-01 3.1864023e-01]\n",
            " [8.3423592e-02 4.0741438e-01 5.8409244e-01 5.5852288e-01]\n",
            " [2.8819692e-01 4.7799308e-04 4.1436464e-01 3.6599576e-02]\n",
            " [4.9727285e-01 4.5529667e-01 5.8381712e-01 4.7793603e-01]\n",
            " [6.2716800e-01 3.6102405e-01 7.0599681e-01 4.0978017e-01]\n",
            " [5.1586103e-01 3.8005698e-01 5.9689385e-01 4.1175827e-01]\n",
            " [1.1809819e-02 3.0812180e-01 9.7285949e-02 3.2503897e-01]\n",
            " [5.1250178e-01 6.2365335e-01 5.6242216e-01 6.5764189e-01]\n",
            " [4.0100309e-01 8.8508892e-01 5.8128154e-01 9.3921441e-01]\n",
            " [5.1385325e-01 5.2948457e-01 6.0200971e-01 5.5236280e-01]\n",
            " [0.0000000e+00 1.0060608e-02 1.3615684e-01 3.1600725e-02]\n",
            " [4.8042634e-01 6.2042278e-01 5.6528455e-01 6.6015041e-01]\n",
            " [5.1935548e-01 3.6184043e-01 6.2499541e-01 3.8491970e-01]]\n"
          ]
        }
      ]
    }
  ]
}