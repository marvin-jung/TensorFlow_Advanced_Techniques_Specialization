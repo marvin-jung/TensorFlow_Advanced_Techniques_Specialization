{
 "cells": [
  {
   "cell_type": "markdown",
   "metadata": {
    "colab_type": "text",
    "id": "0c_TYhQOUe1j"
   },
   "source": [
    "# Ungraded Lab: Introduction to Keras callbacks\n",
    "\n",
    "In Keras, `Callback` is a Python class meant to be subclassed to provide specific functionality, with a set of methods called at various stages of training (including batch/epoch start and ends), testing, and predicting. Callbacks are useful to get a view on internal states and statistics of the model during training. The methods of the callbacks can  be called at different stages of training/evaluating/inference. Keras has available [callbacks](https://keras.io/api/callbacks/) and we'll show how you can use it in the following sections. Please click the **Open in Colab** badge above to complete this exercise in Colab. This will allow you to take advantage of the free GPU runtime (for faster training) and compatibility with all the packages needed in this notebook."
   ]
  },
  {
   "cell_type": "markdown",
   "metadata": {
    "colab_type": "text",
    "id": "Uyl69EyRQx-f"
   },
   "source": [
    "## Model methods that take callbacks\n",
    "Users can supply a list of callbacks to the following `tf.keras.Model` methods:\n",
    "* [`fit()`](https://www.tensorflow.org/versions/r2.0/api_docs/python/tf/keras/Model#fit), [`fit_generator()`](https://www.tensorflow.org/versions/r2.0/api_docs/python/tf/keras/Model#fit_generator)\n",
    "Trains the model for a fixed number of epochs (iterations over a dataset, or data yielded batch-by-batch by a Python generator).\n",
    "* [`evaluate()`](https://www.tensorflow.org/versions/r2.0/api_docs/python/tf/keras/Model#evaluate), [`evaluate_generator()`](https://www.tensorflow.org/versions/r2.0/api_docs/python/tf/keras/Model#evaluate_generator)\n",
    "Evaluates the model for given data or data generator. Outputs the loss and metric values from the evaluation.\n",
    "* [`predict()`](https://www.tensorflow.org/versions/r2.0/api_docs/python/tf/keras/Model#predict), [`predict_generator()`](https://www.tensorflow.org/versions/r2.0/api_docs/python/tf/keras/Model#predict_generator)\n",
    "Generates output predictions for the input data or data generator."
   ]
  },
  {
   "cell_type": "markdown",
   "metadata": {},
   "source": [
    "## Imports"
   ]
  },
  {
   "cell_type": "code",
   "execution_count": 1,
   "metadata": {
    "colab": {},
    "colab_type": "code",
    "id": "AlT1Kh3uA9lZ"
   },
   "outputs": [
    {
     "name": "stdout",
     "output_type": "stream",
     "text": [
      "Version:  2.1.0\n"
     ]
    }
   ],
   "source": [
    "from __future__ import absolute_import, division, print_function, unicode_literals\n",
    "\n",
    "try:\n",
    "    # %tensorflow_version only exists in Colab.\n",
    "    %tensorflow_version 2.x\n",
    "except Exception:\n",
    "    pass\n",
    "\n",
    "import tensorflow as tf\n",
    "import tensorflow_datasets as tfds\n",
    "import matplotlib.pyplot as plt\n",
    "import io\n",
    "from PIL import Image\n",
    "\n",
    "from tensorflow.keras.callbacks import TensorBoard, EarlyStopping, LearningRateScheduler, ModelCheckpoint, CSVLogger, ReduceLROnPlateau\n",
    "%load_ext tensorboard\n",
    "\n",
    "import os\n",
    "import matplotlib.pylab as plt\n",
    "import numpy as np\n",
    "import math\n",
    "import datetime\n",
    "import pandas as pd\n",
    "\n",
    "print(\"Version: \", tf.__version__)\n",
    "tf.get_logger().setLevel('INFO')"
   ]
  },
  {
   "cell_type": "markdown",
   "metadata": {
    "colab_type": "text",
    "id": "HnSljqtsXKfb"
   },
   "source": [
    "# Examples of Keras callback applications\n",
    "The following section will guide you through creating simple [Callback](https://keras.io/api/callbacks/) applications."
   ]
  },
  {
   "cell_type": "code",
   "execution_count": 2,
   "metadata": {
    "colab": {},
    "colab_type": "code",
    "id": "spskRuxvCYQE"
   },
   "outputs": [],
   "source": [
    "# Download and prepare the horses or humans dataset\n",
    "\n",
    "# horses_or_humans 3.0.0 has already been downloaded for you\n",
    "path = \"./tensorflow_datasets\"\n",
    "splits, info = tfds.load('horses_or_humans', data_dir=path, as_supervised=True, with_info=True, split=['train[:80%]', 'train[80%:]', 'test'])\n",
    "\n",
    "(train_examples, validation_examples, test_examples) = splits\n",
    "\n",
    "num_examples = info.splits['train'].num_examples\n",
    "num_classes = info.features['label'].num_classes"
   ]
  },
  {
   "cell_type": "code",
   "execution_count": 3,
   "metadata": {
    "colab": {},
    "colab_type": "code",
    "id": "veIsubKTCZsN"
   },
   "outputs": [],
   "source": [
    "SIZE = 150 #@param {type:\"slider\", min:64, max:300, step:1}\n",
    "IMAGE_SIZE = (SIZE, SIZE)"
   ]
  },
  {
   "cell_type": "code",
   "execution_count": 4,
   "metadata": {
    "colab": {},
    "colab_type": "code",
    "id": "faajLlErCb1S"
   },
   "outputs": [],
   "source": [
    "def format_image(image, label):\n",
    "  image = tf.image.resize(image, IMAGE_SIZE) / 255.0\n",
    "  return  image, label"
   ]
  },
  {
   "cell_type": "code",
   "execution_count": 5,
   "metadata": {
    "colab": {},
    "colab_type": "code",
    "id": "AVXPuU12Cdka"
   },
   "outputs": [],
   "source": [
    "BATCH_SIZE = 32 #@param {type:\"integer\"}"
   ]
  },
  {
   "cell_type": "code",
   "execution_count": 6,
   "metadata": {
    "colab": {},
    "colab_type": "code",
    "id": "0lHDkFVaCe48"
   },
   "outputs": [],
   "source": [
    "train_batches = train_examples.shuffle(num_examples // 4).map(format_image).batch(BATCH_SIZE).prefetch(1)\n",
    "validation_batches = validation_examples.map(format_image).batch(BATCH_SIZE).prefetch(1)\n",
    "test_batches = test_examples.map(format_image).batch(1)"
   ]
  },
  {
   "cell_type": "code",
   "execution_count": 7,
   "metadata": {
    "colab": {},
    "colab_type": "code",
    "id": "DxsCqEIkCgUt"
   },
   "outputs": [
    {
     "data": {
      "text/plain": [
       "TensorShape([32, 150, 150, 3])"
      ]
     },
     "execution_count": 7,
     "metadata": {},
     "output_type": "execute_result"
    }
   ],
   "source": [
    "for image_batch, label_batch in train_batches.take(1):\n",
    "  pass\n",
    "\n",
    "image_batch.shape"
   ]
  },
  {
   "cell_type": "code",
   "execution_count": 8,
   "metadata": {
    "colab": {},
    "colab_type": "code",
    "id": "iDBpWvHXCh2A"
   },
   "outputs": [],
   "source": [
    "def build_model(dense_units, input_shape=IMAGE_SIZE + (3,)):\n",
    "  model = tf.keras.models.Sequential([\n",
    "      tf.keras.layers.Conv2D(16, (3, 3), activation='relu', input_shape=input_shape),\n",
    "      tf.keras.layers.MaxPooling2D(2, 2),\n",
    "      tf.keras.layers.Conv2D(32, (3, 3), activation='relu'),\n",
    "      tf.keras.layers.MaxPooling2D(2, 2),\n",
    "      tf.keras.layers.Conv2D(64, (3, 3), activation='relu'),\n",
    "      tf.keras.layers.MaxPooling2D(2, 2),\n",
    "      tf.keras.layers.Flatten(),\n",
    "      tf.keras.layers.Dense(dense_units, activation='relu'),\n",
    "      tf.keras.layers.Dense(2, activation='softmax')\n",
    "  ])\n",
    "  return model"
   ]
  },
  {
   "cell_type": "markdown",
   "metadata": {
    "colab_type": "text",
    "id": "0ZKGkjagENSw"
   },
   "source": [
    "## [TensorBoard](https://keras.io/api/callbacks/tensorboard/)\n",
    "\n",
    "Enable visualizations for TensorBoard."
   ]
  },
  {
   "cell_type": "code",
   "execution_count": 9,
   "metadata": {
    "colab": {},
    "colab_type": "code",
    "id": "CeiD2WVEHbex"
   },
   "outputs": [],
   "source": [
    "!rm -rf logs"
   ]
  },
  {
   "cell_type": "code",
   "execution_count": 10,
   "metadata": {
    "colab": {},
    "colab_type": "code",
    "id": "PpLwPLnAEOzv"
   },
   "outputs": [
    {
     "name": "stdout",
     "output_type": "stream",
     "text": [
      "Epoch 1/10\n",
      "26/26 [==============================] - 21s 806ms/step - loss: 0.6628 - accuracy: 0.5949 - val_loss: 0.6887 - val_accuracy: 0.4585\n",
      "Epoch 2/10\n",
      "26/26 [==============================] - 20s 773ms/step - loss: 0.6159 - accuracy: 0.6655 - val_loss: 0.5660 - val_accuracy: 0.7854\n",
      "Epoch 3/10\n",
      "26/26 [==============================] - 20s 761ms/step - loss: 0.5633 - accuracy: 0.7324 - val_loss: 0.4975 - val_accuracy: 0.8439\n",
      "Epoch 4/10\n",
      "26/26 [==============================] - 20s 754ms/step - loss: 0.5440 - accuracy: 0.7543 - val_loss: 0.4621 - val_accuracy: 0.8634\n",
      "Epoch 5/10\n",
      "26/26 [==============================] - 20s 758ms/step - loss: 0.4602 - accuracy: 0.8041 - val_loss: 0.6970 - val_accuracy: 0.5805\n",
      "Epoch 6/10\n",
      "26/26 [==============================] - 20s 757ms/step - loss: 0.3906 - accuracy: 0.8467 - val_loss: 0.3223 - val_accuracy: 0.8878\n",
      "Epoch 7/10\n",
      "26/26 [==============================] - 20s 769ms/step - loss: 0.3599 - accuracy: 0.8589 - val_loss: 0.4220 - val_accuracy: 0.8146\n",
      "Epoch 8/10\n",
      "26/26 [==============================] - 20s 754ms/step - loss: 0.3796 - accuracy: 0.8224 - val_loss: 0.3548 - val_accuracy: 0.8244\n",
      "Epoch 9/10\n",
      "26/26 [==============================] - 20s 762ms/step - loss: 0.2705 - accuracy: 0.9148 - val_loss: 0.3558 - val_accuracy: 0.8098\n",
      "Epoch 10/10\n",
      "26/26 [==============================] - 20s 762ms/step - loss: 0.2138 - accuracy: 0.9294 - val_loss: 0.1792 - val_accuracy: 0.9610\n"
     ]
    },
    {
     "data": {
      "text/plain": [
       "<tensorflow.python.keras.callbacks.History at 0x7ff6d1a59f50>"
      ]
     },
     "execution_count": 10,
     "metadata": {},
     "output_type": "execute_result"
    }
   ],
   "source": [
    "model = build_model(dense_units=256)\n",
    "model.compile(\n",
    "    optimizer='sgd',\n",
    "    loss='sparse_categorical_crossentropy', \n",
    "    metrics=['accuracy'])\n",
    "  \n",
    "logdir = os.path.join(\"logs\", datetime.datetime.now().strftime(\"%Y%m%d-%H%M%S\"))\n",
    "tensorboard_callback = tf.keras.callbacks.TensorBoard(logdir)\n",
    "\n",
    "model.fit(train_batches, \n",
    "          epochs=10, \n",
    "          validation_data=validation_batches, \n",
    "          callbacks=[tensorboard_callback])"
   ]
  },
  {
   "cell_type": "code",
   "execution_count": 11,
   "metadata": {
    "colab": {},
    "colab_type": "code",
    "id": "iJunWOjZE0ir"
   },
   "outputs": [
    {
     "data": {
      "text/html": [
       "\n",
       "      <iframe id=\"tensorboard-frame-f905bf1f422290e0\" width=\"100%\" height=\"800\" frameborder=\"0\">\n",
       "      </iframe>\n",
       "      <script>\n",
       "        (function() {\n",
       "          const frame = document.getElementById(\"tensorboard-frame-f905bf1f422290e0\");\n",
       "          const url = new URL(\"/\", window.location);\n",
       "          url.port = 6006;\n",
       "          frame.src = url;\n",
       "        })();\n",
       "      </script>\n",
       "  "
      ],
      "text/plain": [
       "<IPython.core.display.HTML object>"
      ]
     },
     "metadata": {},
     "output_type": "display_data"
    }
   ],
   "source": [
    "%tensorboard --logdir logs"
   ]
  },
  {
   "cell_type": "markdown",
   "metadata": {
    "colab_type": "text",
    "id": "wv9H4Pc2Mfl7"
   },
   "source": [
    "## [Model Checkpoint](https://keras.io/api/callbacks/model_checkpoint/)\n",
    "\n",
    "Callback to save the Keras model or model weights at some frequency."
   ]
  },
  {
   "cell_type": "code",
   "execution_count": 12,
   "metadata": {
    "colab": {},
    "colab_type": "code",
    "id": "PYV4FJ8iMmDq"
   },
   "outputs": [
    {
     "name": "stdout",
     "output_type": "stream",
     "text": [
      "Epoch 1/5\n",
      "\n",
      "Epoch 00001: saving model to weights.01-0.68.h5\n",
      "26/26 - 20s - loss: 0.6763 - accuracy: 0.5791 - val_loss: 0.6843 - val_accuracy: 0.4390\n",
      "Epoch 2/5\n",
      "\n",
      "Epoch 00002: saving model to weights.02-0.67.h5\n",
      "26/26 - 20s - loss: 0.6532 - accuracy: 0.6521 - val_loss: 0.6674 - val_accuracy: 0.4585\n",
      "Epoch 3/5\n",
      "\n",
      "Epoch 00003: saving model to weights.03-0.60.h5\n",
      "26/26 - 20s - loss: 0.6197 - accuracy: 0.7299 - val_loss: 0.5958 - val_accuracy: 0.8049\n",
      "Epoch 4/5\n",
      "\n",
      "Epoch 00004: saving model to weights.04-0.53.h5\n",
      "26/26 - 20s - loss: 0.5775 - accuracy: 0.7652 - val_loss: 0.5339 - val_accuracy: 0.8000\n",
      "Epoch 5/5\n",
      "\n",
      "Epoch 00005: saving model to weights.05-0.67.h5\n",
      "26/26 - 20s - loss: 0.5254 - accuracy: 0.7725 - val_loss: 0.6675 - val_accuracy: 0.5024\n"
     ]
    },
    {
     "data": {
      "text/plain": [
       "<tensorflow.python.keras.callbacks.History at 0x7ff6d1924b50>"
      ]
     },
     "execution_count": 12,
     "metadata": {},
     "output_type": "execute_result"
    }
   ],
   "source": [
    "model = build_model(dense_units=256)\n",
    "model.compile(\n",
    "    optimizer='sgd',\n",
    "    loss='sparse_categorical_crossentropy', \n",
    "    metrics=['accuracy'])\n",
    "  \n",
    "model.fit(train_batches, \n",
    "          epochs=5, \n",
    "          validation_data=validation_batches, \n",
    "          verbose=2,\n",
    "          callbacks=[ModelCheckpoint('weights.{epoch:02d}-{val_loss:.2f}.h5', verbose=1),\n",
    "          ])"
   ]
  },
  {
   "cell_type": "code",
   "execution_count": 13,
   "metadata": {
    "colab": {},
    "colab_type": "code",
    "id": "oGvjQ8IlMmK6"
   },
   "outputs": [
    {
     "name": "stdout",
     "output_type": "stream",
     "text": [
      "\n",
      "Epoch 00001: saving model to saved_model\n",
      "WARNING:tensorflow:From /opt/conda/lib/python3.7/site-packages/tensorflow_core/python/ops/resource_variable_ops.py:1786: calling BaseResourceVariable.__init__ (from tensorflow.python.ops.resource_variable_ops) with constraint is deprecated and will be removed in a future version.\n",
      "Instructions for updating:\n",
      "If using Keras pass *_constraint arguments to layers.\n"
     ]
    },
    {
     "name": "stderr",
     "output_type": "stream",
     "text": [
      "WARNING:tensorflow:From /opt/conda/lib/python3.7/site-packages/tensorflow_core/python/ops/resource_variable_ops.py:1786: calling BaseResourceVariable.__init__ (from tensorflow.python.ops.resource_variable_ops) with constraint is deprecated and will be removed in a future version.\n",
      "Instructions for updating:\n",
      "If using Keras pass *_constraint arguments to layers.\n"
     ]
    },
    {
     "name": "stdout",
     "output_type": "stream",
     "text": [
      "INFO:tensorflow:Assets written to: saved_model/assets\n"
     ]
    },
    {
     "name": "stderr",
     "output_type": "stream",
     "text": [
      "INFO:tensorflow:Assets written to: saved_model/assets\n"
     ]
    },
    {
     "name": "stdout",
     "output_type": "stream",
     "text": [
      "26/26 - 21s - loss: 0.6851 - accuracy: 0.5365 - val_loss: 0.6881 - val_accuracy: 0.4488\n"
     ]
    },
    {
     "data": {
      "text/plain": [
       "<tensorflow.python.keras.callbacks.History at 0x7ff6d17df910>"
      ]
     },
     "execution_count": 13,
     "metadata": {},
     "output_type": "execute_result"
    }
   ],
   "source": [
    "model = build_model(dense_units=256)\n",
    "model.compile(\n",
    "    optimizer='sgd',\n",
    "    loss='sparse_categorical_crossentropy', \n",
    "    metrics=['accuracy'])\n",
    "  \n",
    "model.fit(train_batches, \n",
    "          epochs=1, \n",
    "          validation_data=validation_batches, \n",
    "          verbose=2,\n",
    "          callbacks=[ModelCheckpoint('saved_model', verbose=1)\n",
    "          ])"
   ]
  },
  {
   "cell_type": "code",
   "execution_count": 14,
   "metadata": {
    "colab": {},
    "colab_type": "code",
    "id": "Y1ConwoB0EjD"
   },
   "outputs": [
    {
     "name": "stdout",
     "output_type": "stream",
     "text": [
      "Epoch 1/2\n",
      "\n",
      "Epoch 00001: saving model to model.h5\n",
      "26/26 - 22s - loss: 0.6719 - accuracy: 0.5852 - val_loss: 0.6641 - val_accuracy: 0.5317\n",
      "Epoch 2/2\n",
      "\n",
      "Epoch 00002: saving model to model.h5\n",
      "26/26 - 20s - loss: 0.6294 - accuracy: 0.7141 - val_loss: 0.7617 - val_accuracy: 0.4341\n"
     ]
    },
    {
     "data": {
      "text/plain": [
       "<tensorflow.python.keras.callbacks.History at 0x7ff6d155e950>"
      ]
     },
     "execution_count": 14,
     "metadata": {},
     "output_type": "execute_result"
    }
   ],
   "source": [
    "model = build_model(dense_units=256)\n",
    "model.compile(\n",
    "    optimizer='sgd',\n",
    "    loss='sparse_categorical_crossentropy', \n",
    "    metrics=['accuracy'])\n",
    "  \n",
    "model.fit(train_batches, \n",
    "          epochs=2, \n",
    "          validation_data=validation_batches, \n",
    "          verbose=2,\n",
    "          callbacks=[ModelCheckpoint('model.h5', verbose=1)\n",
    "          ])"
   ]
  },
  {
   "cell_type": "markdown",
   "metadata": {
    "colab_type": "text",
    "id": "kptNF0--Lznv"
   },
   "source": [
    "## [Early stopping](https://keras.io/api/callbacks/early_stopping/)\n",
    "\n",
    "Stop training when a monitored metric has stopped improving."
   ]
  },
  {
   "cell_type": "code",
   "execution_count": 15,
   "metadata": {
    "colab": {},
    "colab_type": "code",
    "id": "KJOJTJYdCkdY"
   },
   "outputs": [
    {
     "name": "stdout",
     "output_type": "stream",
     "text": [
      "Epoch 1/50\n",
      "26/26 - 20s - loss: 0.6670 - accuracy: 0.6119 - val_loss: 0.7000 - val_accuracy: 0.4341\n",
      "Epoch 2/50\n",
      "26/26 - 20s - loss: 0.6251 - accuracy: 0.6679 - val_loss: 0.5997 - val_accuracy: 0.7561\n",
      "Epoch 3/50\n",
      "26/26 - 20s - loss: 0.5491 - accuracy: 0.7798 - val_loss: 0.5244 - val_accuracy: 0.7659\n",
      "Epoch 4/50\n",
      "26/26 - 20s - loss: 0.4701 - accuracy: 0.7944 - val_loss: 0.5007 - val_accuracy: 0.7854\n",
      "Epoch 5/50\n",
      "26/26 - 20s - loss: 0.4403 - accuracy: 0.8005 - val_loss: 0.8161 - val_accuracy: 0.4976\n",
      "Epoch 6/50\n",
      "26/26 - 20s - loss: 0.4195 - accuracy: 0.8224 - val_loss: 0.3753 - val_accuracy: 0.8732\n",
      "Epoch 7/50\n",
      "26/26 - 20s - loss: 0.3317 - accuracy: 0.8856 - val_loss: 0.2621 - val_accuracy: 0.9220\n",
      "Epoch 8/50\n",
      "26/26 - 20s - loss: 0.2618 - accuracy: 0.9173 - val_loss: 0.1985 - val_accuracy: 0.9659\n",
      "Epoch 9/50\n",
      "26/26 - 20s - loss: 0.2243 - accuracy: 0.9246 - val_loss: 0.1637 - val_accuracy: 0.9756\n",
      "Epoch 10/50\n",
      "26/26 - 20s - loss: 0.1596 - accuracy: 0.9623 - val_loss: 0.1249 - val_accuracy: 0.9854\n",
      "Epoch 11/50\n",
      "26/26 - 20s - loss: 0.1358 - accuracy: 0.9708 - val_loss: 0.1035 - val_accuracy: 0.9805\n",
      "Epoch 12/50\n",
      "26/26 - 21s - loss: 0.1565 - accuracy: 0.9538 - val_loss: 0.1067 - val_accuracy: 0.9756\n",
      "Epoch 13/50\n",
      "26/26 - 20s - loss: 0.0995 - accuracy: 0.9781 - val_loss: 0.0734 - val_accuracy: 0.9854\n",
      "Epoch 14/50\n",
      "26/26 - 20s - loss: 0.0781 - accuracy: 0.9866 - val_loss: 0.2404 - val_accuracy: 0.8780\n",
      "Epoch 15/50\n",
      "26/26 - 20s - loss: 0.0737 - accuracy: 0.9878 - val_loss: 0.0692 - val_accuracy: 0.9854\n",
      "Epoch 16/50\n",
      "Restoring model weights from the end of the best epoch.\n",
      "26/26 - 20s - loss: 0.0603 - accuracy: 0.9878 - val_loss: 0.0483 - val_accuracy: 0.9854\n",
      "Epoch 00016: early stopping\n"
     ]
    },
    {
     "data": {
      "text/plain": [
       "<tensorflow.python.keras.callbacks.History at 0x7ff6d148e9d0>"
      ]
     },
     "execution_count": 15,
     "metadata": {},
     "output_type": "execute_result"
    }
   ],
   "source": [
    "model = build_model(dense_units=256)\n",
    "model.compile(\n",
    "    optimizer='sgd',\n",
    "    loss='sparse_categorical_crossentropy', \n",
    "    metrics=['accuracy'])\n",
    "  \n",
    "model.fit(train_batches, \n",
    "          epochs=50, \n",
    "          validation_data=validation_batches, \n",
    "          verbose=2,\n",
    "          callbacks=[EarlyStopping(\n",
    "              patience=3,\n",
    "              min_delta=0.05,\n",
    "              baseline=0.8,\n",
    "              mode='min',\n",
    "              monitor='val_loss',\n",
    "              restore_best_weights=True,\n",
    "              verbose=1)\n",
    "          ])"
   ]
  },
  {
   "cell_type": "markdown",
   "metadata": {
    "colab_type": "text",
    "id": "8mDzWUD4Pqq5"
   },
   "source": [
    "## [CSV Logger](https://keras.io/api/callbacks/csv_logger/)\n",
    "\n",
    "Callback that streams epoch results to a CSV file."
   ]
  },
  {
   "cell_type": "code",
   "execution_count": 16,
   "metadata": {
    "colab": {},
    "colab_type": "code",
    "id": "cffnMpmGPtMh"
   },
   "outputs": [
    {
     "name": "stdout",
     "output_type": "stream",
     "text": [
      "Epoch 1/5\n",
      "26/26 [==============================] - 20s 782ms/step - loss: 0.6826 - accuracy: 0.5864 - val_loss: 0.6751 - val_accuracy: 0.5707\n",
      "Epoch 2/5\n",
      "26/26 [==============================] - 20s 772ms/step - loss: 0.6301 - accuracy: 0.6521 - val_loss: 0.5997 - val_accuracy: 0.7073\n",
      "Epoch 3/5\n",
      "26/26 [==============================] - 20s 769ms/step - loss: 0.5526 - accuracy: 0.7530 - val_loss: 0.5223 - val_accuracy: 0.7610\n",
      "Epoch 4/5\n",
      "26/26 [==============================] - 20s 754ms/step - loss: 0.5165 - accuracy: 0.7616 - val_loss: 0.4667 - val_accuracy: 0.7707\n",
      "Epoch 5/5\n",
      "26/26 [==============================] - 20s 773ms/step - loss: 0.4399 - accuracy: 0.7932 - val_loss: 0.5322 - val_accuracy: 0.7317\n"
     ]
    },
    {
     "data": {
      "text/plain": [
       "<tensorflow.python.keras.callbacks.History at 0x7ff6d1396710>"
      ]
     },
     "execution_count": 16,
     "metadata": {},
     "output_type": "execute_result"
    }
   ],
   "source": [
    "model = build_model(dense_units=256)\n",
    "model.compile(\n",
    "    optimizer='sgd',\n",
    "    loss='sparse_categorical_crossentropy', \n",
    "    metrics=['accuracy'])\n",
    "  \n",
    "csv_file = 'training.csv'\n",
    "\n",
    "model.fit(train_batches, \n",
    "          epochs=5, \n",
    "          validation_data=validation_batches, \n",
    "          callbacks=[CSVLogger(csv_file)\n",
    "          ])"
   ]
  },
  {
   "cell_type": "code",
   "execution_count": 17,
   "metadata": {
    "colab": {},
    "colab_type": "code",
    "id": "B9tkYi03QV7R"
   },
   "outputs": [
    {
     "data": {
      "text/html": [
       "<div>\n",
       "<style scoped>\n",
       "    .dataframe tbody tr th:only-of-type {\n",
       "        vertical-align: middle;\n",
       "    }\n",
       "\n",
       "    .dataframe tbody tr th {\n",
       "        vertical-align: top;\n",
       "    }\n",
       "\n",
       "    .dataframe thead th {\n",
       "        text-align: right;\n",
       "    }\n",
       "</style>\n",
       "<table border=\"1\" class=\"dataframe\">\n",
       "  <thead>\n",
       "    <tr style=\"text-align: right;\">\n",
       "      <th></th>\n",
       "      <th>epoch</th>\n",
       "      <th>accuracy</th>\n",
       "      <th>loss</th>\n",
       "      <th>val_accuracy</th>\n",
       "      <th>val_loss</th>\n",
       "    </tr>\n",
       "  </thead>\n",
       "  <tbody>\n",
       "    <tr>\n",
       "      <th>0</th>\n",
       "      <td>0</td>\n",
       "      <td>0.586375</td>\n",
       "      <td>0.680500</td>\n",
       "      <td>0.570732</td>\n",
       "      <td>0.675133</td>\n",
       "    </tr>\n",
       "    <tr>\n",
       "      <th>1</th>\n",
       "      <td>1</td>\n",
       "      <td>0.652068</td>\n",
       "      <td>0.629359</td>\n",
       "      <td>0.707317</td>\n",
       "      <td>0.599662</td>\n",
       "    </tr>\n",
       "    <tr>\n",
       "      <th>2</th>\n",
       "      <td>2</td>\n",
       "      <td>0.753041</td>\n",
       "      <td>0.552599</td>\n",
       "      <td>0.760976</td>\n",
       "      <td>0.522296</td>\n",
       "    </tr>\n",
       "    <tr>\n",
       "      <th>3</th>\n",
       "      <td>3</td>\n",
       "      <td>0.761557</td>\n",
       "      <td>0.516600</td>\n",
       "      <td>0.770732</td>\n",
       "      <td>0.466727</td>\n",
       "    </tr>\n",
       "    <tr>\n",
       "      <th>4</th>\n",
       "      <td>4</td>\n",
       "      <td>0.793187</td>\n",
       "      <td>0.439709</td>\n",
       "      <td>0.731707</td>\n",
       "      <td>0.532195</td>\n",
       "    </tr>\n",
       "  </tbody>\n",
       "</table>\n",
       "</div>"
      ],
      "text/plain": [
       "   epoch  accuracy      loss  val_accuracy  val_loss\n",
       "0      0  0.586375  0.680500      0.570732  0.675133\n",
       "1      1  0.652068  0.629359      0.707317  0.599662\n",
       "2      2  0.753041  0.552599      0.760976  0.522296\n",
       "3      3  0.761557  0.516600      0.770732  0.466727\n",
       "4      4  0.793187  0.439709      0.731707  0.532195"
      ]
     },
     "execution_count": 17,
     "metadata": {},
     "output_type": "execute_result"
    }
   ],
   "source": [
    "pd.read_csv(csv_file).head()"
   ]
  },
  {
   "cell_type": "markdown",
   "metadata": {
    "colab_type": "text",
    "id": "Dt9C2Y9fRBKN"
   },
   "source": [
    "## [Learning Rate Scheduler](https://keras.io/api/callbacks/learning_rate_scheduler/)\n",
    "\n",
    "Updates the learning rate during training."
   ]
  },
  {
   "cell_type": "code",
   "execution_count": 18,
   "metadata": {
    "colab": {},
    "colab_type": "code",
    "id": "aJi-xY2VRC03"
   },
   "outputs": [
    {
     "name": "stdout",
     "output_type": "stream",
     "text": [
      "\n",
      "Epoch 00001: LearningRateScheduler reducing learning rate to 0.005.\n",
      "Epoch 1/5\n",
      "26/26 [==============================] - 30s 1s/step - loss: 0.6862 - accuracy: 0.5414 - val_loss: 0.6913 - val_accuracy: 0.4390\n",
      "\n",
      "Epoch 00002: LearningRateScheduler reducing learning rate to 0.0025.\n",
      "Epoch 2/5\n",
      "26/26 [==============================] - 20s 788ms/step - loss: 0.6666 - accuracy: 0.5511 - val_loss: 0.6752 - val_accuracy: 0.5366\n",
      "\n",
      "Epoch 00003: LearningRateScheduler reducing learning rate to 0.00125.\n",
      "Epoch 3/5\n",
      "26/26 [==============================] - 20s 766ms/step - loss: 0.6569 - accuracy: 0.6046 - val_loss: 0.6714 - val_accuracy: 0.5366\n",
      "\n",
      "Epoch 00004: LearningRateScheduler reducing learning rate to 0.000625.\n",
      "Epoch 4/5\n",
      "26/26 [==============================] - 20s 765ms/step - loss: 0.6518 - accuracy: 0.6119 - val_loss: 0.6692 - val_accuracy: 0.5415\n",
      "\n",
      "Epoch 00005: LearningRateScheduler reducing learning rate to 0.0003125.\n",
      "Epoch 5/5\n",
      "26/26 [==============================] - 20s 777ms/step - loss: 0.6493 - accuracy: 0.6156 - val_loss: 0.6674 - val_accuracy: 0.5512\n"
     ]
    },
    {
     "data": {
      "text/plain": [
       "<tensorflow.python.keras.callbacks.History at 0x7ff6d11c5f90>"
      ]
     },
     "execution_count": 18,
     "metadata": {},
     "output_type": "execute_result"
    }
   ],
   "source": [
    "model = build_model(dense_units=256)\n",
    "model.compile(\n",
    "    optimizer='sgd',\n",
    "    loss='sparse_categorical_crossentropy', \n",
    "    metrics=['accuracy'])\n",
    "  \n",
    "def step_decay(epoch):\n",
    "\tinitial_lr = 0.01\n",
    "\tdrop = 0.5\n",
    "\tepochs_drop = 1\n",
    "\tlr = initial_lr * math.pow(drop, math.floor((1+epoch)/epochs_drop))\n",
    "\treturn lr\n",
    "\n",
    "model.fit(train_batches, \n",
    "          epochs=5, \n",
    "          validation_data=validation_batches, \n",
    "          callbacks=[LearningRateScheduler(step_decay, verbose=1),\n",
    "                    TensorBoard(log_dir='./log_dir')])"
   ]
  },
  {
   "cell_type": "code",
   "execution_count": 19,
   "metadata": {
    "colab": {},
    "colab_type": "code",
    "id": "M2S4n8nrbV91"
   },
   "outputs": [
    {
     "data": {
      "text/html": [
       "\n",
       "      <iframe id=\"tensorboard-frame-62e19f45e204439b\" width=\"100%\" height=\"800\" frameborder=\"0\">\n",
       "      </iframe>\n",
       "      <script>\n",
       "        (function() {\n",
       "          const frame = document.getElementById(\"tensorboard-frame-62e19f45e204439b\");\n",
       "          const url = new URL(\"/\", window.location);\n",
       "          url.port = 6007;\n",
       "          frame.src = url;\n",
       "        })();\n",
       "      </script>\n",
       "  "
      ],
      "text/plain": [
       "<IPython.core.display.HTML object>"
      ]
     },
     "metadata": {},
     "output_type": "display_data"
    }
   ],
   "source": [
    "%tensorboard --logdir log_dir"
   ]
  },
  {
   "cell_type": "markdown",
   "metadata": {
    "colab_type": "text",
    "id": "y0wcuQyJE_UK"
   },
   "source": [
    "## [ReduceLROnPlateau](https://keras.io/api/callbacks/reduce_lr_on_plateau/)\n",
    "\n",
    "Reduce learning rate when a metric has stopped improving."
   ]
  },
  {
   "cell_type": "code",
   "execution_count": null,
   "metadata": {
    "colab": {},
    "colab_type": "code",
    "id": "4naxZ-eCFB27"
   },
   "outputs": [
    {
     "name": "stdout",
     "output_type": "stream",
     "text": [
      "Epoch 1/50\n",
      "26/26 [==============================] - 22s 835ms/step - loss: 0.6667 - accuracy: 0.5888 - val_loss: 0.6501 - val_accuracy: 0.6780\n",
      "Epoch 2/50\n",
      "26/26 [==============================] - 21s 814ms/step - loss: 0.6405 - accuracy: 0.6472 - val_loss: 0.6131 - val_accuracy: 0.7756\n",
      "Epoch 3/50\n",
      "26/26 [==============================] - 21s 789ms/step - loss: 0.6040 - accuracy: 0.6995 - val_loss: 0.6008 - val_accuracy: 0.5902\n",
      "Epoch 4/50\n",
      "25/26 [===========================>..] - ETA: 0s - loss: 0.5716 - accuracy: 0.7088\n",
      "Epoch 00004: ReduceLROnPlateau reducing learning rate to 0.0019999999552965165.\n",
      "26/26 [==============================] - 21s 808ms/step - loss: 0.5718 - accuracy: 0.7092 - val_loss: 0.6651 - val_accuracy: 0.5512\n",
      "Epoch 5/50\n",
      "26/26 [==============================] - 21s 792ms/step - loss: 0.5178 - accuracy: 0.7871 - val_loss: 0.5123 - val_accuracy: 0.8244\n",
      "Epoch 6/50\n",
      "26/26 [==============================] - 21s 812ms/step - loss: 0.4938 - accuracy: 0.8066 - val_loss: 0.4947 - val_accuracy: 0.8341\n",
      "Epoch 7/50\n",
      "26/26 [==============================] - 21s 827ms/step - loss: 0.4796 - accuracy: 0.8066 - val_loss: 0.4650 - val_accuracy: 0.8780\n",
      "Epoch 8/50\n",
      "25/26 [===========================>..] - ETA: 0s - loss: 0.4656 - accuracy: 0.8138\n",
      "Epoch 00008: ReduceLROnPlateau reducing learning rate to 0.001.\n",
      "26/26 [==============================] - 21s 796ms/step - loss: 0.4656 - accuracy: 0.8127 - val_loss: 0.4852 - val_accuracy: 0.7707\n",
      "Epoch 9/50\n",
      "26/26 [==============================] - 21s 799ms/step - loss: 0.4521 - accuracy: 0.8175 - val_loss: 0.4555 - val_accuracy: 0.8293\n",
      "Epoch 10/50\n",
      "26/26 [==============================] - 21s 805ms/step - loss: 0.4428 - accuracy: 0.8224 - val_loss: 0.4438 - val_accuracy: 0.8439\n",
      "Epoch 11/50\n",
      "26/26 [==============================] - 20s 788ms/step - loss: 0.4383 - accuracy: 0.8273 - val_loss: 0.4365 - val_accuracy: 0.8390\n",
      "Epoch 12/50\n",
      "26/26 [==============================] - 20s 784ms/step - loss: 0.4300 - accuracy: 0.8297 - val_loss: 0.4346 - val_accuracy: 0.8341\n",
      "Epoch 13/50\n",
      "26/26 [==============================] - 20s 766ms/step - loss: 0.4223 - accuracy: 0.8370 - val_loss: 0.4053 - val_accuracy: 0.8927\n",
      "Epoch 14/50\n",
      "26/26 [==============================] - 20s 781ms/step - loss: 0.4148 - accuracy: 0.8333 - val_loss: 0.3964 - val_accuracy: 0.9073\n",
      "Epoch 15/50\n",
      "25/26 [===========================>..] - ETA: 0s - loss: 0.4070 - accuracy: 0.8363\n",
      "Epoch 00015: ReduceLROnPlateau reducing learning rate to 0.001.\n",
      "26/26 [==============================] - 20s 754ms/step - loss: 0.4087 - accuracy: 0.8358 - val_loss: 0.4220 - val_accuracy: 0.8195\n",
      "Epoch 16/50\n",
      "26/26 [==============================] - 20s 766ms/step - loss: 0.4015 - accuracy: 0.8431 - val_loss: 0.3878 - val_accuracy: 0.8976\n",
      "Epoch 17/50\n",
      "26/26 [==============================] - 21s 799ms/step - loss: 0.3938 - accuracy: 0.8443 - val_loss: 0.3775 - val_accuracy: 0.9024\n",
      "Epoch 18/50\n",
      "26/26 [==============================] - 21s 819ms/step - loss: 0.3859 - accuracy: 0.8467 - val_loss: 0.3649 - val_accuracy: 0.9122\n",
      "Epoch 19/50\n",
      "26/26 [==============================] - 21s 807ms/step - loss: 0.3787 - accuracy: 0.8552 - val_loss: 0.3579 - val_accuracy: 0.9024\n",
      "Epoch 20/50\n",
      "26/26 [==============================] - 21s 800ms/step - loss: 0.3757 - accuracy: 0.8516 - val_loss: 0.3566 - val_accuracy: 0.9073\n",
      "Epoch 21/50\n",
      "26/26 [==============================] - 21s 796ms/step - loss: 0.3670 - accuracy: 0.8491 - val_loss: 0.3472 - val_accuracy: 0.9073\n",
      "Epoch 22/50\n",
      "26/26 [==============================] - 21s 809ms/step - loss: 0.3605 - accuracy: 0.8686 - val_loss: 0.3408 - val_accuracy: 0.9073\n",
      "Epoch 23/50\n",
      "26/26 [==============================] - 21s 826ms/step - loss: 0.3555 - accuracy: 0.8601 - val_loss: 0.3275 - val_accuracy: 0.9171\n",
      "Epoch 24/50\n",
      "25/26 [===========================>..] - ETA: 0s - loss: 0.3487 - accuracy: 0.8763\n",
      "Epoch 00024: ReduceLROnPlateau reducing learning rate to 0.001.\n",
      "26/26 [==============================] - 21s 819ms/step - loss: 0.3457 - accuracy: 0.8771 - val_loss: 0.3635 - val_accuracy: 0.8585\n",
      "Epoch 25/50\n",
      "26/26 [==============================] - 21s 804ms/step - loss: 0.3427 - accuracy: 0.8650 - val_loss: 0.3240 - val_accuracy: 0.9024\n",
      "Epoch 26/50\n",
      "25/26 [===========================>..] - ETA: 0s - loss: 0.3353 - accuracy: 0.8700\n",
      "Epoch 00026: ReduceLROnPlateau reducing learning rate to 0.001.\n",
      "26/26 [==============================] - 21s 816ms/step - loss: 0.3349 - accuracy: 0.8698 - val_loss: 0.3256 - val_accuracy: 0.8976\n",
      "Epoch 27/50\n",
      "26/26 [==============================] - 21s 802ms/step - loss: 0.3262 - accuracy: 0.8747 - val_loss: 0.3069 - val_accuracy: 0.9073\n",
      "Epoch 28/50\n",
      "26/26 [==============================] - 21s 820ms/step - loss: 0.3187 - accuracy: 0.8832 - val_loss: 0.3059 - val_accuracy: 0.9122\n",
      "Epoch 29/50\n",
      "25/26 [===========================>..] - ETA: 0s - loss: 0.3187 - accuracy: 0.8863\n",
      "Epoch 00029: ReduceLROnPlateau reducing learning rate to 0.001.\n",
      "26/26 [==============================] - 21s 815ms/step - loss: 0.3178 - accuracy: 0.8881 - val_loss: 0.3308 - val_accuracy: 0.8829\n",
      "Epoch 30/50\n",
      "25/26 [===========================>..] - ETA: 0s - loss: 0.3045 - accuracy: 0.8913\n",
      "Epoch 00030: ReduceLROnPlateau reducing learning rate to 0.001.\n",
      "26/26 [==============================] - 20s 781ms/step - loss: 0.3081 - accuracy: 0.8905 - val_loss: 0.3189 - val_accuracy: 0.8829\n",
      "Epoch 31/50\n",
      "26/26 [==============================] - 20s 773ms/step - loss: 0.3073 - accuracy: 0.8978 - val_loss: 0.3024 - val_accuracy: 0.9024\n",
      "Epoch 32/50\n",
      "25/26 [===========================>..] - ETA: 0s - loss: 0.2942 - accuracy: 0.9000\n",
      "Epoch 00032: ReduceLROnPlateau reducing learning rate to 0.001.\n",
      "26/26 [==============================] - 20s 762ms/step - loss: 0.2925 - accuracy: 0.9015 - val_loss: 0.3139 - val_accuracy: 0.8829\n",
      "Epoch 33/50\n",
      "26/26 [==============================] - 20s 762ms/step - loss: 0.2890 - accuracy: 0.9100 - val_loss: 0.2717 - val_accuracy: 0.9122\n",
      "Epoch 34/50\n",
      "26/26 [==============================] - 20s 769ms/step - loss: 0.2796 - accuracy: 0.9100 - val_loss: 0.2605 - val_accuracy: 0.9220\n",
      "Epoch 35/50\n",
      "25/26 [===========================>..] - ETA: 0s - loss: 0.2772 - accuracy: 0.9112\n",
      "Epoch 00035: ReduceLROnPlateau reducing learning rate to 0.001.\n",
      "26/26 [==============================] - 20s 781ms/step - loss: 0.2759 - accuracy: 0.9124 - val_loss: 0.2652 - val_accuracy: 0.9073\n",
      "Epoch 36/50\n",
      "21/26 [=======================>......] - ETA: 3s - loss: 0.2698 - accuracy: 0.9033"
     ]
    }
   ],
   "source": [
    "model = build_model(dense_units=256)\n",
    "model.compile(\n",
    "    optimizer='sgd',\n",
    "    loss='sparse_categorical_crossentropy', \n",
    "    metrics=['accuracy'])\n",
    "  \n",
    "model.fit(train_batches, \n",
    "          epochs=50, \n",
    "          validation_data=validation_batches, \n",
    "          callbacks=[ReduceLROnPlateau(monitor='val_loss', \n",
    "                                       factor=0.2, verbose=1,\n",
    "                                       patience=1, min_lr=0.001),\n",
    "                     TensorBoard(log_dir='./log_dir')])"
   ]
  },
  {
   "cell_type": "code",
   "execution_count": null,
   "metadata": {
    "colab": {},
    "colab_type": "code",
    "id": "isfTWP4NYudk"
   },
   "outputs": [],
   "source": [
    "%tensorboard --logdir log_dir"
   ]
  }
 ],
 "metadata": {
  "colab": {
   "collapsed_sections": [],
   "include_colab_link": true,
   "name": "ExploringCallbacks.ipynb",
   "provenance": []
  },
  "kernelspec": {
   "display_name": "Python 3",
   "language": "python",
   "name": "python3"
  },
  "language_info": {
   "codemirror_mode": {
    "name": "ipython",
    "version": 3
   },
   "file_extension": ".py",
   "mimetype": "text/x-python",
   "name": "python",
   "nbconvert_exporter": "python",
   "pygments_lexer": "ipython3",
   "version": "3.7.6"
  }
 },
 "nbformat": 4,
 "nbformat_minor": 4
}
