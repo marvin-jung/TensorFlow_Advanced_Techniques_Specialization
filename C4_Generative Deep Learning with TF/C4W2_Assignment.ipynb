{
  "cells": [
    {
      "cell_type": "markdown",
      "metadata": {
        "id": "L6S2HVAkSt0p"
      },
      "source": [
        "# Week 2 Assignment: CIFAR-10 Autoencoder\n",
        "\n",
        "For this week, you will create a convolutional autoencoder for the [CIFAR10](https://www.tensorflow.org/datasets/catalog/cifar10) dataset. You are free to choose the architecture of your autoencoder provided that the output image has the same dimensions as the input image.\n",
        "\n",
        "After training, your model should meet loss and accuracy requirements when evaluated with the test dataset. You will then download the model and upload it in the classroom for grading. \n",
        "\n",
        "Let's begin!"
      ]
    },
    {
      "cell_type": "markdown",
      "metadata": {
        "id": "6r4iPr2jyisR"
      },
      "source": [
        "***Important:*** *This colab notebook has read-only access so you won't be able to save your changes. If you want to save your work periodically, please click `File -> Save a Copy in Drive` to create a copy in your account, then work from there.*  "
      ]
    },
    {
      "cell_type": "markdown",
      "metadata": {
        "id": "g1mzy2J8_nc1"
      },
      "source": [
        "## Imports"
      ]
    },
    {
      "cell_type": "code",
      "execution_count": 1,
      "metadata": {
        "id": "wPuX3RKxl8l5"
      },
      "outputs": [],
      "source": [
        "# Install packages for compatibility with the autograder\n",
        "!pip install tensorflow==2.8.0 --quiet\n",
        "!pip install keras==2.8.0 --quiet"
      ]
    },
    {
      "cell_type": "code",
      "execution_count": 2,
      "metadata": {
        "id": "3EXwoz-KHtWO",
        "colab": {
          "base_uri": "https://localhost:8080/"
        },
        "outputId": "b4ccdbb0-706a-46f0-ada7-1f6549acb360"
      },
      "outputs": [
        {
          "output_type": "stream",
          "name": "stdout",
          "text": [
            "Colab only includes TensorFlow 2.x; %tensorflow_version has no effect.\n"
          ]
        }
      ],
      "source": [
        "try:\n",
        "  # %tensorflow_version only exists in Colab.\n",
        "  %tensorflow_version 2.x\n",
        "except Exception:\n",
        "  pass\n",
        "\n",
        "import tensorflow as tf\n",
        "import tensorflow_datasets as tfds\n",
        "\n",
        "from keras.models import Sequential"
      ]
    },
    {
      "cell_type": "markdown",
      "metadata": {
        "id": "n2Gs6Lyc_pd0"
      },
      "source": [
        "## Load and prepare the dataset\n",
        "\n",
        "The [CIFAR 10](https://www.tensorflow.org/datasets/catalog/cifar10) dataset already has train and test splits and you can use those in this exercise. Here are the general steps:\n",
        "\n",
        "* Load the train/test split from TFDS. Set `as_supervised` to `True` so it will be convenient to use the preprocessing function we provided.\n",
        "* Normalize the pixel values to the range [0,1], then return `image, image` pairs for training instead of `image, label`. This is because you will check if the output image is successfully regenerated after going through your autoencoder.\n",
        "* Shuffle and batch the train set. Batch the test set (no need to shuffle).\n"
      ]
    },
    {
      "cell_type": "code",
      "execution_count": 3,
      "metadata": {
        "id": "t9F7YsCNIKSA"
      },
      "outputs": [],
      "source": [
        "# preprocessing function\n",
        "def map_image(image, label):\n",
        "  image = tf.cast(image, dtype=tf.float32)\n",
        "  image = image / 255.0\n",
        "\n",
        "  return image, image # dataset label is not used. replaced with the same image input.\n",
        "\n",
        "# parameters\n",
        "BATCH_SIZE = 128\n",
        "SHUFFLE_BUFFER_SIZE = 1024\n",
        "\n",
        "\n",
        "### START CODE HERE (Replace instances of `None` with your code) ###\n",
        "\n",
        "# use tfds.load() to fetch the 'train' split of CIFAR-10\n",
        "train_dataset = tfds.load('cifar10', as_supervised=True, split=\"train\")\n",
        "\n",
        "# preprocess the dataset with the `map_image()` function above\n",
        "train_dataset = train_dataset.map(map_image)\n",
        "\n",
        "# shuffle and batch the dataset\n",
        "train_dataset = train_dataset.shuffle(SHUFFLE_BUFFER_SIZE).batch(BATCH_SIZE)\n",
        "\n",
        "\n",
        "# use tfds.load() to fetch the 'test' split of CIFAR-10\n",
        "test_dataset = tfds.load('cifar10', as_supervised=True, split=\"test\")\n",
        "\n",
        "# preprocess the dataset with the `map_image()` function above\n",
        "test_dataset = test_dataset.map(map_image)\n",
        "\n",
        "# batch the dataset\n",
        "test_dataset = test_dataset.batch(BATCH_SIZE)\n",
        "\n",
        "### END CODE HERE ###"
      ]
    },
    {
      "cell_type": "markdown",
      "metadata": {
        "id": "rPyOgGJs_t98"
      },
      "source": [
        "## Build the Model\n",
        "\n",
        "Create the autoencoder model. As shown in the lectures, you will want to downsample the image in the encoder layers then upsample it in the decoder path. Note that the output layer should be the same dimensions as the original image. Your input images will have the shape `(32, 32, 3)`. If you deviate from this, your model may not be recognized by the grader and may fail. \n",
        "\n",
        "We included a few hints to use the Sequential API below but feel free to remove it and use the Functional API just like in the ungraded labs if you're more comfortable with it. Another reason to use the latter is if you want to visualize the encoder output. As shown in the ungraded labs, it will be easier to indicate multiple outputs with the Functional API. That is not required for this assignment though so you can just stack layers sequentially if you want a simpler solution."
      ]
    },
    {
      "cell_type": "code",
      "execution_count": 4,
      "metadata": {
        "id": "Wr-Bok3lRgA3",
        "colab": {
          "base_uri": "https://localhost:8080/"
        },
        "outputId": "c55de4a8-dbbd-4274-b7b1-9967f10827ea"
      },
      "outputs": [
        {
          "output_type": "stream",
          "name": "stdout",
          "text": [
            "Model: \"model\"\n",
            "_________________________________________________________________\n",
            " Layer (type)                Output Shape              Param #   \n",
            "=================================================================\n",
            " input_1 (InputLayer)        [(None, 32, 32, 3)]       0         \n",
            "                                                                 \n",
            " conv2d (Conv2D)             (None, 32, 32, 64)        1792      \n",
            "                                                                 \n",
            " max_pooling2d (MaxPooling2D  (None, 16, 16, 64)       0         \n",
            " )                                                               \n",
            "                                                                 \n",
            " conv2d_1 (Conv2D)           (None, 16, 16, 128)       73856     \n",
            "                                                                 \n",
            " max_pooling2d_1 (MaxPooling  (None, 8, 8, 128)        0         \n",
            " 2D)                                                             \n",
            "                                                                 \n",
            " conv2d_2 (Conv2D)           (None, 8, 8, 256)         295168    \n",
            "                                                                 \n",
            " conv2d_3 (Conv2D)           (None, 8, 8, 128)         295040    \n",
            "                                                                 \n",
            " up_sampling2d (UpSampling2D  (None, 16, 16, 128)      0         \n",
            " )                                                               \n",
            "                                                                 \n",
            " conv2d_4 (Conv2D)           (None, 16, 16, 64)        73792     \n",
            "                                                                 \n",
            " up_sampling2d_1 (UpSampling  (None, 32, 32, 64)       0         \n",
            " 2D)                                                             \n",
            "                                                                 \n",
            " conv2d_5 (Conv2D)           (None, 32, 32, 3)         1731      \n",
            "                                                                 \n",
            "=================================================================\n",
            "Total params: 741,379\n",
            "Trainable params: 741,379\n",
            "Non-trainable params: 0\n",
            "_________________________________________________________________\n"
          ]
        }
      ],
      "source": [
        "# suggested layers to use. feel free to add or remove as you see fit.\n",
        "from keras.layers import Conv2D, UpSampling2D\n",
        "\n",
        "### START CODE HERE ###\n",
        "# use `model.add()` to add layers (if using the Sequential API)\n",
        "inputs = tf.keras.layers.Input(shape=(32, 32, 3,))\n",
        "conv_1 = tf.keras.layers.Conv2D(filters=64, kernel_size=(3,3), activation='relu', padding='same')(inputs)\n",
        "max_pool_1 = tf.keras.layers.MaxPooling2D(pool_size=(2,2))(conv_1)\n",
        "conv_2 = tf.keras.layers.Conv2D(filters=128, kernel_size=(3,3), activation='relu', padding='same')(max_pool_1)\n",
        "max_pool_2 = tf.keras.layers.MaxPooling2D(pool_size=(2,2))(conv_2)\n",
        "\n",
        "bottle_neck = tf.keras.layers.Conv2D(filters=256, kernel_size=(3,3), activation='relu', padding='same')(max_pool_2)\n",
        "\n",
        "conv_3 = tf.keras.layers.Conv2D(filters=128, kernel_size=(3,3), activation='relu', padding='same')(bottle_neck)\n",
        "up_sample_1 = tf.keras.layers.UpSampling2D(size=(2,2))(conv_3)\n",
        "conv_4 = tf.keras.layers.Conv2D(filters=64, kernel_size=(3,3), activation='relu', padding='same')(up_sample_1)\n",
        "up_sample_2 = tf.keras.layers.UpSampling2D(size=(2,2))(conv_4)\n",
        "decoder_output = tf.keras.layers.Conv2D(filters=3, kernel_size=(3,3), activation='sigmoid', padding='same')(up_sample_2)\n",
        "\n",
        "# use the Sequential API (you can remove if you want to use the Functional API)\n",
        "model = tf.keras.Model(inputs =inputs, outputs=decoder_output)\n",
        "\n",
        "### END CODE HERE ###\n",
        "\n",
        "model.summary()"
      ]
    },
    {
      "cell_type": "markdown",
      "metadata": {
        "id": "jRWTAijKEVUC"
      },
      "source": [
        "## Configure training parameters\n",
        "\n",
        "We have already provided the optimizer, metrics, and loss in the code below."
      ]
    },
    {
      "cell_type": "code",
      "execution_count": 5,
      "metadata": {
        "id": "iHIeD9eDETSk"
      },
      "outputs": [],
      "source": [
        "# Please do not change the model.compile() parameters\n",
        "model.compile(optimizer='adam', metrics=['accuracy'], loss='mean_squared_error')"
      ]
    },
    {
      "cell_type": "markdown",
      "metadata": {
        "id": "tLQPhm1W_8dC"
      },
      "source": [
        "## Training\n",
        "\n",
        "You can now use [model.fit()](https://keras.io/api/models/model_training_apis/#fit-method) to train your model. You will pass in the `train_dataset` and you are free to configure the other parameters. As with any training, you should see the loss generally going down and the accuracy going up with each epoch. If not, please revisit the previous sections to find possible bugs.\n",
        "\n",
        "*Note: If you get a `dataset length is infinite` error. Please check how you defined `train_dataset`. You might have included a [method that repeats the dataset indefinitely](https://www.tensorflow.org/api_docs/python/tf/data/Dataset#repeat).*"
      ]
    },
    {
      "cell_type": "code",
      "execution_count": 6,
      "metadata": {
        "id": "AMBimOnsRvg0",
        "colab": {
          "base_uri": "https://localhost:8080/"
        },
        "outputId": "160221bc-ca27-4d30-8a71-3f85ead84f11"
      },
      "outputs": [
        {
          "output_type": "stream",
          "name": "stdout",
          "text": [
            "Epoch 1/100\n",
            "3/3 [==============================] - 10s 68ms/step - loss: 0.0629 - accuracy: 0.3794\n",
            "Epoch 2/100\n",
            "3/3 [==============================] - 0s 60ms/step - loss: 0.0536 - accuracy: 0.4296\n",
            "Epoch 3/100\n",
            "3/3 [==============================] - 0s 59ms/step - loss: 0.0930 - accuracy: 0.2777\n",
            "Epoch 4/100\n",
            "3/3 [==============================] - 0s 53ms/step - loss: 0.0532 - accuracy: 0.3740\n",
            "Epoch 5/100\n",
            "3/3 [==============================] - 0s 56ms/step - loss: 0.0589 - accuracy: 0.4667\n",
            "Epoch 6/100\n",
            "3/3 [==============================] - 0s 59ms/step - loss: 0.0533 - accuracy: 0.4547\n",
            "Epoch 7/100\n",
            "3/3 [==============================] - 0s 73ms/step - loss: 0.0504 - accuracy: 0.4713\n",
            "Epoch 8/100\n",
            "3/3 [==============================] - 0s 86ms/step - loss: 0.0433 - accuracy: 0.4084\n",
            "Epoch 9/100\n",
            "3/3 [==============================] - 0s 90ms/step - loss: 0.0345 - accuracy: 0.3335\n",
            "Epoch 10/100\n",
            "3/3 [==============================] - 0s 134ms/step - loss: 0.0343 - accuracy: 0.4543\n",
            "Epoch 11/100\n",
            "3/3 [==============================] - 0s 107ms/step - loss: 0.0335 - accuracy: 0.4103\n",
            "Epoch 12/100\n",
            "3/3 [==============================] - 0s 162ms/step - loss: 0.0322 - accuracy: 0.3580\n",
            "Epoch 13/100\n",
            "3/3 [==============================] - 0s 122ms/step - loss: 0.0288 - accuracy: 0.4816\n",
            "Epoch 14/100\n",
            "3/3 [==============================] - 0s 89ms/step - loss: 0.0267 - accuracy: 0.4711\n",
            "Epoch 15/100\n",
            "3/3 [==============================] - 0s 180ms/step - loss: 0.0251 - accuracy: 0.4594\n",
            "Epoch 16/100\n",
            "3/3 [==============================] - 0s 148ms/step - loss: 0.0224 - accuracy: 0.4363\n",
            "Epoch 17/100\n",
            "3/3 [==============================] - 0s 117ms/step - loss: 0.0202 - accuracy: 0.5491\n",
            "Epoch 18/100\n",
            "3/3 [==============================] - 0s 145ms/step - loss: 0.0189 - accuracy: 0.5538\n",
            "Epoch 19/100\n",
            "3/3 [==============================] - 0s 145ms/step - loss: 0.0174 - accuracy: 0.5720\n",
            "Epoch 20/100\n",
            "3/3 [==============================] - 0s 156ms/step - loss: 0.0154 - accuracy: 0.5804\n",
            "Epoch 21/100\n",
            "3/3 [==============================] - 0s 137ms/step - loss: 0.0149 - accuracy: 0.6082\n",
            "Epoch 22/100\n",
            "3/3 [==============================] - 0s 163ms/step - loss: 0.0135 - accuracy: 0.6268\n",
            "Epoch 23/100\n",
            "3/3 [==============================] - 0s 139ms/step - loss: 0.0131 - accuracy: 0.6132\n",
            "Epoch 24/100\n",
            "3/3 [==============================] - 0s 126ms/step - loss: 0.0123 - accuracy: 0.6261\n",
            "Epoch 25/100\n",
            "3/3 [==============================] - 0s 177ms/step - loss: 0.0151 - accuracy: 0.6343\n",
            "Epoch 26/100\n",
            "3/3 [==============================] - 0s 111ms/step - loss: 0.0157 - accuracy: 0.6331\n",
            "Epoch 27/100\n",
            "3/3 [==============================] - 0s 185ms/step - loss: 0.0130 - accuracy: 0.6510\n",
            "Epoch 28/100\n",
            "3/3 [==============================] - 0s 109ms/step - loss: 0.0131 - accuracy: 0.6550\n",
            "Epoch 29/100\n",
            "3/3 [==============================] - 0s 70ms/step - loss: 0.0126 - accuracy: 0.6277\n",
            "Epoch 30/100\n",
            "3/3 [==============================] - 0s 118ms/step - loss: 0.0120 - accuracy: 0.6628\n",
            "Epoch 31/100\n",
            "3/3 [==============================] - 0s 148ms/step - loss: 0.0114 - accuracy: 0.6937\n",
            "Epoch 32/100\n",
            "3/3 [==============================] - 0s 85ms/step - loss: 0.0107 - accuracy: 0.6675\n",
            "Epoch 33/100\n",
            "3/3 [==============================] - 0s 129ms/step - loss: 0.0111 - accuracy: 0.6627\n",
            "Epoch 34/100\n",
            "3/3 [==============================] - 0s 83ms/step - loss: 0.0108 - accuracy: 0.6887\n",
            "Epoch 35/100\n",
            "3/3 [==============================] - 0s 90ms/step - loss: 0.0097 - accuracy: 0.7047\n",
            "Epoch 36/100\n",
            "3/3 [==============================] - 0s 88ms/step - loss: 0.0097 - accuracy: 0.7159\n",
            "Epoch 37/100\n",
            "3/3 [==============================] - 0s 86ms/step - loss: 0.0097 - accuracy: 0.7194\n",
            "Epoch 38/100\n",
            "3/3 [==============================] - 0s 105ms/step - loss: 0.0092 - accuracy: 0.7177\n",
            "Epoch 39/100\n",
            "3/3 [==============================] - 0s 114ms/step - loss: 0.0091 - accuracy: 0.7203\n",
            "Epoch 40/100\n",
            "3/3 [==============================] - 0s 105ms/step - loss: 0.0087 - accuracy: 0.7270\n",
            "Epoch 41/100\n",
            "3/3 [==============================] - 0s 158ms/step - loss: 0.0088 - accuracy: 0.7324\n",
            "Epoch 42/100\n",
            "3/3 [==============================] - 0s 79ms/step - loss: 0.0086 - accuracy: 0.7249\n",
            "Epoch 43/100\n",
            "3/3 [==============================] - 0s 96ms/step - loss: 0.0082 - accuracy: 0.7377\n",
            "Epoch 44/100\n",
            "3/3 [==============================] - 0s 144ms/step - loss: 0.0077 - accuracy: 0.7392\n",
            "Epoch 45/100\n",
            "3/3 [==============================] - 0s 83ms/step - loss: 0.0085 - accuracy: 0.7339\n",
            "Epoch 46/100\n",
            "3/3 [==============================] - 0s 91ms/step - loss: 0.0107 - accuracy: 0.7111\n",
            "Epoch 47/100\n",
            "3/3 [==============================] - 0s 152ms/step - loss: 0.0086 - accuracy: 0.7465\n",
            "Epoch 48/100\n",
            "3/3 [==============================] - 0s 101ms/step - loss: 0.0083 - accuracy: 0.7527\n",
            "Epoch 49/100\n",
            "3/3 [==============================] - 0s 116ms/step - loss: 0.0080 - accuracy: 0.7341\n",
            "Epoch 50/100\n",
            "3/3 [==============================] - 0s 80ms/step - loss: 0.0082 - accuracy: 0.7441\n",
            "Epoch 51/100\n",
            "3/3 [==============================] - 0s 112ms/step - loss: 0.0080 - accuracy: 0.7307\n",
            "Epoch 52/100\n",
            "3/3 [==============================] - 0s 97ms/step - loss: 0.0074 - accuracy: 0.7513\n",
            "Epoch 53/100\n",
            "3/3 [==============================] - 0s 96ms/step - loss: 0.0072 - accuracy: 0.7500\n",
            "Epoch 54/100\n",
            "3/3 [==============================] - 0s 104ms/step - loss: 0.0074 - accuracy: 0.7601\n",
            "Epoch 55/100\n",
            "3/3 [==============================] - 0s 96ms/step - loss: 0.0069 - accuracy: 0.7667\n",
            "Epoch 56/100\n",
            "3/3 [==============================] - 0s 108ms/step - loss: 0.0072 - accuracy: 0.7599\n",
            "Epoch 57/100\n",
            "3/3 [==============================] - 0s 93ms/step - loss: 0.0069 - accuracy: 0.7708\n",
            "Epoch 58/100\n",
            "3/3 [==============================] - 0s 101ms/step - loss: 0.0069 - accuracy: 0.7543\n",
            "Epoch 59/100\n",
            "3/3 [==============================] - 0s 60ms/step - loss: 0.0068 - accuracy: 0.7596\n",
            "Epoch 60/100\n",
            "3/3 [==============================] - 0s 64ms/step - loss: 0.0068 - accuracy: 0.7522\n",
            "Epoch 61/100\n",
            "3/3 [==============================] - 0s 57ms/step - loss: 0.0068 - accuracy: 0.7585\n",
            "Epoch 62/100\n",
            "3/3 [==============================] - 0s 62ms/step - loss: 0.0064 - accuracy: 0.7668\n",
            "Epoch 63/100\n",
            "3/3 [==============================] - 0s 54ms/step - loss: 0.0080 - accuracy: 0.7730\n",
            "Epoch 64/100\n",
            "3/3 [==============================] - 0s 59ms/step - loss: 0.0096 - accuracy: 0.7487\n",
            "Epoch 65/100\n",
            "3/3 [==============================] - 0s 60ms/step - loss: 0.0080 - accuracy: 0.7565\n",
            "Epoch 66/100\n",
            "3/3 [==============================] - 0s 58ms/step - loss: 0.0074 - accuracy: 0.7627\n",
            "Epoch 67/100\n",
            "3/3 [==============================] - 0s 58ms/step - loss: 0.0073 - accuracy: 0.7614\n",
            "Epoch 68/100\n",
            "3/3 [==============================] - 0s 76ms/step - loss: 0.0072 - accuracy: 0.7645\n",
            "Epoch 69/100\n",
            "3/3 [==============================] - 0s 75ms/step - loss: 0.0069 - accuracy: 0.7605\n",
            "Epoch 70/100\n",
            "3/3 [==============================] - 0s 79ms/step - loss: 0.0064 - accuracy: 0.7580\n",
            "Epoch 71/100\n",
            "3/3 [==============================] - 0s 76ms/step - loss: 0.0064 - accuracy: 0.7725\n",
            "Epoch 72/100\n",
            "3/3 [==============================] - 0s 85ms/step - loss: 0.0064 - accuracy: 0.7760\n",
            "Epoch 73/100\n",
            "3/3 [==============================] - 0s 80ms/step - loss: 0.0064 - accuracy: 0.7664\n",
            "Epoch 74/100\n",
            "3/3 [==============================] - 0s 78ms/step - loss: 0.0058 - accuracy: 0.7636\n",
            "Epoch 75/100\n",
            "3/3 [==============================] - 0s 79ms/step - loss: 0.0060 - accuracy: 0.7830\n",
            "Epoch 76/100\n",
            "3/3 [==============================] - 0s 77ms/step - loss: 0.0063 - accuracy: 0.7668\n",
            "Epoch 77/100\n",
            "3/3 [==============================] - 0s 79ms/step - loss: 0.0061 - accuracy: 0.7696\n",
            "Epoch 78/100\n",
            "3/3 [==============================] - 0s 81ms/step - loss: 0.0063 - accuracy: 0.7803\n",
            "Epoch 79/100\n",
            "3/3 [==============================] - 0s 92ms/step - loss: 0.0061 - accuracy: 0.7561\n",
            "Epoch 80/100\n",
            "3/3 [==============================] - 0s 85ms/step - loss: 0.0061 - accuracy: 0.7723\n",
            "Epoch 81/100\n",
            "3/3 [==============================] - 0s 105ms/step - loss: 0.0057 - accuracy: 0.7663\n",
            "Epoch 82/100\n",
            "3/3 [==============================] - 0s 79ms/step - loss: 0.0058 - accuracy: 0.7683\n",
            "Epoch 83/100\n",
            "3/3 [==============================] - 0s 81ms/step - loss: 0.0058 - accuracy: 0.7770\n",
            "Epoch 84/100\n",
            "3/3 [==============================] - 0s 91ms/step - loss: 0.0059 - accuracy: 0.7811\n",
            "Epoch 85/100\n",
            "3/3 [==============================] - 0s 100ms/step - loss: 0.0072 - accuracy: 0.7939\n",
            "Epoch 86/100\n",
            "3/3 [==============================] - 0s 87ms/step - loss: 0.0065 - accuracy: 0.7617\n",
            "Epoch 87/100\n",
            "3/3 [==============================] - 0s 95ms/step - loss: 0.0061 - accuracy: 0.7786\n",
            "Epoch 88/100\n",
            "3/3 [==============================] - 0s 90ms/step - loss: 0.0060 - accuracy: 0.7777\n",
            "Epoch 89/100\n",
            "3/3 [==============================] - 0s 88ms/step - loss: 0.0059 - accuracy: 0.7906\n",
            "Epoch 90/100\n",
            "3/3 [==============================] - 0s 71ms/step - loss: 0.0057 - accuracy: 0.7829\n",
            "Epoch 91/100\n",
            "3/3 [==============================] - 0s 60ms/step - loss: 0.0058 - accuracy: 0.7770\n",
            "Epoch 92/100\n",
            "3/3 [==============================] - 0s 65ms/step - loss: 0.0057 - accuracy: 0.7818\n",
            "Epoch 93/100\n",
            "3/3 [==============================] - 0s 59ms/step - loss: 0.0056 - accuracy: 0.7803\n",
            "Epoch 94/100\n",
            "3/3 [==============================] - 0s 59ms/step - loss: 0.0055 - accuracy: 0.7876\n",
            "Epoch 95/100\n",
            "3/3 [==============================] - 0s 60ms/step - loss: 0.0054 - accuracy: 0.7768\n",
            "Epoch 96/100\n",
            "3/3 [==============================] - 0s 62ms/step - loss: 0.0055 - accuracy: 0.7872\n",
            "Epoch 97/100\n",
            "3/3 [==============================] - 0s 58ms/step - loss: 0.0052 - accuracy: 0.7943\n",
            "Epoch 98/100\n",
            "3/3 [==============================] - 0s 55ms/step - loss: 0.0052 - accuracy: 0.7750\n",
            "Epoch 99/100\n",
            "3/3 [==============================] - 0s 53ms/step - loss: 0.0054 - accuracy: 0.7786\n",
            "Epoch 100/100\n",
            "3/3 [==============================] - 0s 62ms/step - loss: 0.0051 - accuracy: 0.7787\n"
          ]
        },
        {
          "output_type": "execute_result",
          "data": {
            "text/plain": [
              "<keras.callbacks.History at 0x7ff2a82898a0>"
            ]
          },
          "metadata": {},
          "execution_count": 6
        }
      ],
      "source": [
        "# parameters (feel free to change this)\n",
        "train_steps = len(train_dataset) // BATCH_SIZE \n",
        "val_steps = len(test_dataset) // BATCH_SIZE\n",
        "\n",
        "### START CODE HERE ###\n",
        "model.fit(train_dataset, steps_per_epoch = train_steps, batch_size=128, validation_data = test_dataset, validation_steps = val_steps, epochs = 100)\n",
        "### END CODE HERE ###"
      ]
    },
    {
      "cell_type": "markdown",
      "metadata": {
        "id": "PT2l1c-SAaF4"
      },
      "source": [
        "## Model evaluation\n",
        "\n",
        "You can use this code to test your model locally before uploading to the grader. To pass, your model needs to satisfy these two requirements:\n",
        "\n",
        "* loss must be less than 0.01 \n",
        "* accuracy must be greater than 0.6"
      ]
    },
    {
      "cell_type": "code",
      "execution_count": 7,
      "metadata": {
        "id": "vFncgqahSQhA",
        "colab": {
          "base_uri": "https://localhost:8080/"
        },
        "outputId": "7bedc1ab-8deb-4f78-cdce-3f18d105ae03"
      },
      "outputs": [
        {
          "output_type": "stream",
          "name": "stdout",
          "text": [
            "10/10 [==============================] - 0s 19ms/step - loss: 0.0052 - accuracy: 0.7922\n"
          ]
        }
      ],
      "source": [
        "result = model.evaluate(test_dataset, steps=10)"
      ]
    },
    {
      "cell_type": "markdown",
      "metadata": {
        "id": "di6VOHGwIsVM"
      },
      "source": [
        "If you did some visualization like in the ungraded labs, then you might see something like the gallery below. This part is not required."
      ]
    },
    {
      "cell_type": "markdown",
      "metadata": {
        "id": "wmpI4skkIA5L"
      },
      "source": [
        "<img src=\"./images/cifar_autoenc_viz.png\" width=\"75%\" height=\"75%\"/>"
      ]
    },
    {
      "cell_type": "markdown",
      "metadata": {
        "id": "uaRSkQPNAPT0"
      },
      "source": [
        "## Save your model\n",
        "\n",
        "Once you are satisfied with the results, you can now save your model. Please download it from the Files window on the left and go back to the Submission portal in Coursera for grading."
      ]
    },
    {
      "cell_type": "code",
      "execution_count": 8,
      "metadata": {
        "id": "pLFpLP-c7rDR"
      },
      "outputs": [],
      "source": [
        "model.save('mymodel.h5')"
      ]
    },
    {
      "cell_type": "markdown",
      "metadata": {
        "id": "QArMiXJTDxDe"
      },
      "source": [
        "**Congratulations on completing this week's assignment!**"
      ]
    }
  ],
  "metadata": {
    "accelerator": "GPU",
    "colab": {
      "provenance": [],
      "gpuType": "T4"
    },
    "kernelspec": {
      "display_name": "Python 3",
      "language": "python",
      "name": "python3"
    },
    "language_info": {
      "codemirror_mode": {
        "name": "ipython",
        "version": 3
      },
      "file_extension": ".py",
      "mimetype": "text/x-python",
      "name": "python",
      "nbconvert_exporter": "python",
      "pygments_lexer": "ipython3",
      "version": "3.7.4"
    },
    "gpuClass": "standard"
  },
  "nbformat": 4,
  "nbformat_minor": 0
}